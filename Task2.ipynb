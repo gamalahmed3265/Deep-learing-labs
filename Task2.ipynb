{
 "cells": [
  {
   "cell_type": "code",
   "execution_count": 11,
   "id": "cf21a05f",
   "metadata": {},
   "outputs": [],
   "source": [
    "import numpy as np\n",
    "import tensorflow as tf "
   ]
  },
  {
   "cell_type": "code",
   "execution_count": 12,
   "id": "9d040e6c",
   "metadata": {},
   "outputs": [
    {
     "name": "stdout",
     "output_type": "stream",
     "text": [
      "-1732076671\n"
     ]
    }
   ],
   "source": [
    "with tf.compat.v1.Session() as sess:\n",
    "    x=tf.constant(3,name=\"X\")\n",
    "    y=tf.constant(5,name=\"Y\")\n",
    "    tAdd=tf.add(x,y,name=\"Addtion\")\n",
    "    tMul=tf.multiply(x,y,name=\"Multiply\")\n",
    "    tPow=tf.pow(tMul,tAdd,name=\"gamal\")\n",
    "    print(sess.run(tPow))\n",
    "    wr=tf.compat.v1.summary.FileWriter(\"./output/\",sess.graph)\n",
    "    wr.close()"
   ]
  }
 ],
 "metadata": {
  "kernelspec": {
   "display_name": "Python 3 (ipykernel)",
   "language": "python",
   "name": "python3"
  },
  "language_info": {
   "codemirror_mode": {
    "name": "ipython",
    "version": 3
   },
   "file_extension": ".py",
   "mimetype": "text/x-python",
   "name": "python",
   "nbconvert_exporter": "python",
   "pygments_lexer": "ipython3",
   "version": "3.9.12"
  }
 },
 "nbformat": 4,
 "nbformat_minor": 5
}
